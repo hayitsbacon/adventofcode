{
 "cells": [
  {
   "cell_type": "code",
   "execution_count": 4,
   "metadata": {},
   "outputs": [
    {
     "name": "stdout",
     "output_type": "stream",
     "text": [
      "Multible of first two values: 11375\n"
     ]
    }
   ],
   "source": [
    "# http://adventofcode.com/2017/day/10\n",
    "\n",
    "# Part 1\n",
    "lengths_string = '88,88,211,106,141,1,78,254,2,111,77,255,90,0,54,205'\n",
    "lengths = [int(l) for l in lengths_string.split(',')]\n",
    "\n",
    "hash_range = list(range(0,256))\n",
    "current_position = 0\n",
    "skip_size = 0 \n",
    "\n",
    "\n",
    "for l in lengths:    \n",
    "    l_range_i = [i%len(hash_range) for i in range(current_position, current_position+l)]\n",
    "    rev_l_range = [hash_range[i] for i in l_range_i][::-1]\n",
    "\n",
    "    for rev_i, i in enumerate(l_range_i):\n",
    "        hash_range[i] = rev_l_range[rev_i]\n",
    "    \n",
    "    forward = l + skip_size\n",
    "    if current_position + forward > len(hash_range) :\n",
    "        forward -= len(hash_range)\n",
    "    current_position += forward\n",
    "    skip_size += 1\n",
    "    \n",
    "first_pair_multiple = hash_range[0] * hash_range[1]\n",
    "print(\"Multible of first two values:\", first_pair_multiple)\n",
    "\n",
    "# Part 2\n",
    "input_ascii = [ord(c) for c in lengths_string]\n",
    "lengths = input_ascii + [17, 31, 73, 47, 23]\n",
    "num_rounds = 64\n",
    "current_round = 0\n",
    "current_position = 0\n",
    "skip_size = 0 \n",
    "\n",
    "while current_round < num_rounds:\n",
    "    current_round += 1\n",
    "    for l in lengths:    \n",
    "        l_range_i = [i%len(input_ascii) for i in range(current_position, current_position+l)]\n",
    "    rev_l_range = [input_ascii[i] for i in l_range_i][::-1]\n",
    "\n",
    "    for rev_i, i in enumerate(l_range_i):\n",
    "        input_ascii[i] = rev_l_range[rev_i]\n",
    "    \n",
    "    forward = l + skip_size\n",
    "    if current_position + forward > len(hash_range) :\n",
    "        forward -= len(hash_range)\n",
    "    current_position += forward\n",
    "    skip_size += 1\n",
    "    "
   ]
  },
  {
   "cell_type": "code",
   "execution_count": null,
   "metadata": {
    "collapsed": true,
    "scrolled": false
   },
   "outputs": [],
   "source": []
  }
 ],
 "metadata": {
  "kernelspec": {
   "display_name": "Python 3",
   "language": "python",
   "name": "python3"
  },
  "language_info": {
   "codemirror_mode": {
    "name": "ipython",
    "version": 3
   },
   "file_extension": ".py",
   "mimetype": "text/x-python",
   "name": "python",
   "nbconvert_exporter": "python",
   "pygments_lexer": "ipython3",
   "version": "3.5.3"
  }
 },
 "nbformat": 4,
 "nbformat_minor": 2
}
