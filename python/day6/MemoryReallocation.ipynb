{
 "cells": [
  {
   "cell_type": "code",
   "execution_count": 131,
   "metadata": {},
   "outputs": [
    {
     "name": "stdout",
     "output_type": "stream",
     "text": [
      "Cycles until loop: 6681\n",
      "Cycles in loop: 2392\n"
     ]
    }
   ],
   "source": [
    "# http://adventofcode.com/2017/day/6\n",
    "\n",
    "input_blocks = '4\t1\t15\t12\t0\t9\t9\t5\t5\t8\t7\t3\t14\t5\t12\t3'\n",
    "\n",
    "blocks = [int(n) for n in input_blocks.split('\\t')]\n",
    "\n",
    "# Part 1\n",
    "states = []\n",
    "state = [b for b in blocks]\n",
    "\n",
    "cycle = 0\n",
    "\n",
    "while state not in states:\n",
    "    cycle += 1\n",
    "    states.append(state)\n",
    "    max_v = max(blocks)\n",
    "    max_i = blocks.index(max_v)\n",
    "    blocks[max_i] = 0\n",
    "    while max_v > 0:\n",
    "        if max_i+1 == len(blocks):\n",
    "            max_i = abs((len(blocks)-1)-max_i)\n",
    "        else: \n",
    "            max_i += 1\n",
    "        blocks[max_i] += 1\n",
    "        max_v += -1\n",
    "    state = [b for b in blocks]\n",
    "    \n",
    "print(\"Cycles until loop:\", cycle)\n",
    "\n",
    "# Part 2\n",
    "print(\"Cycles in loop:\", cycle - states.index(state))\n"
   ]
  }
 ],
 "metadata": {
  "kernelspec": {
   "display_name": "Python 3",
   "language": "python",
   "name": "python3"
  },
  "language_info": {
   "codemirror_mode": {
    "name": "ipython",
    "version": 3
   },
   "file_extension": ".py",
   "mimetype": "text/x-python",
   "name": "python",
   "nbconvert_exporter": "python",
   "pygments_lexer": "ipython3",
   "version": "3.5.3"
  }
 },
 "nbformat": 4,
 "nbformat_minor": 2
}
