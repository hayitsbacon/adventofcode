{
 "cells": [
  {
   "cell_type": "code",
   "execution_count": 158,
   "metadata": {
    "scrolled": false
   },
   "outputs": [
    {
     "name": "stdout",
     "output_type": "stream",
     "text": [
      "Distance to access port: 371\n"
     ]
    }
   ],
   "source": [
    "# http://adventofcode.com/2017/day/3\n",
    "\n",
    "i = 368078\n",
    "\n",
    "# Part 1\n",
    "import numpy as np\n",
    "\n",
    "def make_spiral(A):\n",
    "    A = np.array(A)\n",
    "    out = []\n",
    "    while(A.size):\n",
    "        out.append(A[0])\n",
    "        A = A[1:].T[::-1]\n",
    "    return np.concatenate(out)[::-1]\n",
    "\n",
    "def make_index_spiral(nrow, ncol):\n",
    "    return make_spiral(np.arange(nrow*ncol).reshape(nrow, ncol))\n",
    "\n",
    "x = i\n",
    "while True:\n",
    "    if np.sqrt(x).is_integer() and x%2 is not 0:\n",
    "        break\n",
    "    if x%2 is 0:\n",
    "        x += 1\n",
    "    else:\n",
    "        x += 2\n",
    "    \n",
    "array_x = int(np.sqrt(x))\n",
    "array_y =int(np.sqrt(x))\n",
    "array = np.arange(x+1)[1:].reshape(array_x,array_y)\n",
    "\n",
    "spiral = np.empty_like(array)\n",
    "spiral.flat[make_index_spiral(*array.shape)] = array.flat\n",
    "spiral = np.rot90(np.rot90(spiral))\n",
    "\n",
    "for x in range(0,len(spiral)):\n",
    "    if i in spiral[x]:\n",
    "        for y in range(0,len(spiral[x])):\n",
    "            if spiral[x][y] == i:\n",
    "                distance = int(abs(x-(np.floor(array_x/2))) + abs(y-(np.floor(array_y/2))))\n",
    "                print(\"Distance to access port:\", distance)"
   ]
  }
 ],
 "metadata": {
  "kernelspec": {
   "display_name": "Python 3",
   "language": "python",
   "name": "python3"
  },
  "language_info": {
   "codemirror_mode": {
    "name": "ipython",
    "version": 3
   },
   "file_extension": ".py",
   "mimetype": "text/x-python",
   "name": "python",
   "nbconvert_exporter": "python",
   "pygments_lexer": "ipython3",
   "version": "3.5.3"
  }
 },
 "nbformat": 4,
 "nbformat_minor": 2
}
